{
 "cells": [
  {
   "cell_type": "markdown",
   "metadata": {},
   "source": [
    "# Analyze the usage of the Tool"
   ]
  },
  {
   "cell_type": "code",
   "execution_count": null,
   "metadata": {},
   "outputs": [],
   "source": [
    "# all other requirements will be installed with the application\n",
    "%pip install -q pandas matplotlib seaborn user-agents"
   ]
  },
  {
   "cell_type": "code",
   "execution_count": 110,
   "metadata": {},
   "outputs": [],
   "source": [
    "import sqlite3\n",
    "import pandas as pd             #db querys with visualization\n",
    "import matplotlib.pyplot as plt # diagrams\n",
    "import matplotlib.image as mpimg # images\n",
    "import seaborn as sns           # Heatmaps etc.\n",
    "from user_agents import parse   # Split OS. Browser etc.\n",
    "import math                     #  calc sizes\n",
    "import config"
   ]
  },
  {
   "cell_type": "markdown",
   "metadata": {},
   "source": [
    "## Open Database Connection"
   ]
  },
  {
   "cell_type": "code",
   "execution_count": 12,
   "metadata": {},
   "outputs": [],
   "source": [
    "# check that the path is fitting to your config file\n",
    "# in theory we could also use the config.py to load this information (maybe next version)\n",
    "connection = sqlite3.connect(\"analytics.db\")\n",
    "cursor = connection.cursor()"
   ]
  },
  {
   "cell_type": "code",
   "execution_count": null,
   "metadata": {},
   "outputs": [],
   "source": [
    "def showBar(df,title, x_column,y_column,x_label=None,y_label=None, show_x_values=True):\n",
    "    \"\"\"generates a bar chart in Jupyter Notebook\"\"\"\n",
    "    if not x_label: x_label=x_column\n",
    "    if not y_label: _ylabel=y_column\n",
    "    ax = df.plot.bar(x=x_column, y=y_column, color=\"skyblue\", legend=show_x_values)    \n",
    "    for container in ax.containers:\n",
    "        ax.bar_label(container, fmt='%d', label_type='edge') \n",
    "        if show_x_values: plt.xlabel=x_label\n",
    "        if not show_x_values: ax.set_xticks([]) \n",
    "        plt.ylabel=y_label\n",
    "        plt.title(title)\n",
    "        # optimization depending on your data\n",
    "        #plt.figure(figsize=(10,6))\n",
    "        plt.xticks(rotation=45)\n",
    "        plt.tight_layout()\n",
    "        plt.show()\n",
    "\n",
    "def showImage(path: str, name: str = \"\"):\n",
    "    \"\"\"shows an image in Jupyter Notebook\"\"\"\n",
    "    img = mpimg.imread(path)\n",
    "    plt.imshow(img)\n",
    "    plt.axis('off')\n",
    "    plt.title(f\"Image {name}\")\n",
    "    plt.show()\n",
    "\n",
    "def showImageGrid(df: pd.DataFrame, path_column: str, name_column: str = None, descr_column: str = None):\n",
    "    n_cols = 3\n",
    "    n_rows = math.ceil(len(df)/n_cols)\n",
    "\n",
    "    # Calculate plot size\n",
    "    fig, axes = plt.subplots(n_rows, n_cols, figsize=(10, 10))\n",
    "\n",
    "    # load images and text\n",
    "    for idx, (ax, row) in enumerate(zip(axes.flatten(), df.iterrows())):\n",
    "        _, row_data = row\n",
    "        try:\n",
    "            img = mpimg.imread(row_data[path_column])\n",
    "            \n",
    "            ax.imshow(img)\n",
    "            ax.axis('off')  \n",
    "            if name_column:\n",
    "                title = row_data[name_column]\n",
    "                if descr_column:\n",
    "                    title = f\"{title} \\n {row_data[descr_column]}\"\n",
    "                ax.set_title(title, fontsize=12)\n",
    "        except FileNotFoundError:\n",
    "            ax.text(0.5, 0.5, 'Image not found', fontsize=12, ha='center', va='center')\n",
    "            ax.axis('off')  \n",
    "\n",
    "    for ax in axes.flatten()[len(df):]:\n",
    "        ax.axis('off')  # Entferne leere Zellen\n",
    "\n",
    "    # Align space between images\n",
    "    plt.tight_layout()\n",
    "    plt.show()\n",
    "\n",
    "config.read_configuration()\n",
    "# def get_os(user_agent):\n",
    "#     os = (parse(user_agent)).os\n",
    "#     if (os.version_string!=\"\"):\n",
    "#         return os.family + \" \" + os.version_string\n",
    "#     else:\n",
    "#         return os.family\n",
    "# def enhance_data(df_sessions):\n",
    "#     # function to put make the dataframe more feature rich and simplify queries later\n",
    "#     df_sessions['Datetime'] = pd.to_datetime(df_sessions[\"Timestamp\"])\n",
    "#     # For analysis it is interesting which day of week has the entry\n",
    "#     df_sessions['Day'] = df_sessions[\"Datetime\"].dt.day_name()\n",
    "#     df_sessions['OS'] = df_sessions[\"Client\"].apply(get_os) #alternate way is lambda, but a function can be more complex\n",
    "#     df_sessions['Browser'] = df_sessions[\"Client\"].apply(lambda ua: parse(ua).browser.family)\n",
    "#     df_sessions['IsMobile'] = df_sessions[\"Client\"].apply(lambda ua: parse(ua).is_mobile) \n",
    "#     df_sessions['IsBot'] = df_sessions[\"Client\"].apply(lambda ua: parse(ua).is_bot)\n",
    "#     return df_sessions"
   ]
  },
  {
   "cell_type": "markdown",
   "metadata": {},
   "source": [
    "## Analyze sources of the Queries"
   ]
  },
  {
   "cell_type": "markdown",
   "metadata": {},
   "source": [
    "### read and prepare Data for analyzation\n",
    "This section must be executed for all analyzation regading the Loaction, Operating Systems, and usage time\n",
    "\n",
    "Here we first read all Data into the Memory and analyze it then. It's more performant then adHoc Queries but AdHoc might be better if the Server is running in parallel."
   ]
  },
  {
   "cell_type": "code",
   "execution_count": null,
   "metadata": {},
   "outputs": [],
   "source": [
    "query = \"select * from tblSessions order by timestamp\"\n",
    "df_sessions = enhance_data(pd.read_sql_query(query, connection))\n",
    "df_sessions.tail()"
   ]
  },
  {
   "cell_type": "markdown",
   "metadata": {},
   "source": [
    "**Filter by date (optional!)**\n",
    "if it is useful for your analysis"
   ]
  },
  {
   "cell_type": "code",
   "execution_count": null,
   "metadata": {},
   "outputs": [],
   "source": [
    "# # Year-Month-Day Hours:Minutes:Seconds\n",
    "# start_date = \"2025-01-01 00:00:00\"\n",
    "# end_date = \"2025-12-31 23:59:59\"\n",
    "# query = f\"select * from tblSessions where Timestamp between '{start_date}' and '{end_date}'\"\n",
    "# df_sessions = pd.read_sql_query(query, connection)\n",
    "# df_sessions = enhance_data(df_sessions)\n",
    "# df_sessions.tail()"
   ]
  },
  {
   "cell_type": "markdown",
   "metadata": {},
   "source": [
    "### Where does the Users comes from"
   ]
  },
  {
   "cell_type": "markdown",
   "metadata": {},
   "source": [
    "#### Prepare Dataset for this section\n",
    "\n",
    "Hint: it's required to execute the \"read an prepare Data\" first!\n",
    "\n"
   ]
  },
  {
   "cell_type": "code",
   "execution_count": null,
   "metadata": {},
   "outputs": [],
   "source": [
    "df_grouped_location = df_sessions.groupby([\"Continent\", \"Country\", \"City\"]).size().reset_index(name=\"SessionCount\")\n",
    "#remove correct NaN for better work with Panda groups\n",
    "df_grouped_location[\"Continent\"] = df_grouped_location[\"Continent\"].fillna(\"unkonwn\")\n",
    "df_grouped_location[\"Country\"] = df_grouped_location[\"Country\"].fillna(\"unkonwn\")\n",
    "df_grouped_location[\"City\"] = df_grouped_location[\"City\"].fillna(\"unkonwn\")\n",
    "df_grouped_location.head(10)"
   ]
  },
  {
   "cell_type": "markdown",
   "metadata": {},
   "source": [
    "Sample of AdHoc Query for the same content as below.\n",
    "Use it only if you need special data or rrlations or if your amount of data is very big"
   ]
  },
  {
   "cell_type": "code",
   "execution_count": null,
   "metadata": {},
   "outputs": [],
   "source": [
    "query = \"select Continent, Country, City, count(1) as SessionCount from tblSessions group by Continent, Country, City\"\n",
    "df_where = pd.read_sql_query(query, connection)\n",
    "df_where.head(10)"
   ]
  },
  {
   "cell_type": "code",
   "execution_count": null,
   "metadata": {},
   "outputs": [],
   "source": [
    "#Group by Countries\n",
    "df_country = df_grouped_location.groupby(\"Country\")[\"SessionCount\"].sum().reset_index()\n",
    "df_country = df_country.sort_values(by=\"SessionCount\", ascending=False)\n",
    "plt.bar(df_country[\"Country\"], df_country[\"SessionCount\"], color=\"skyblue\")\n",
    "plt.xlabel=\"Country\"\n",
    "plt.ylabel=\"Number of Sessions\"\n",
    "plt.title(\"Number of Sessions by Country\")\n",
    "# optimization depending on your data\n",
    "#plt.figure(figsize=(10,6))\n",
    "plt.xticks(rotation=90)\n",
    "plt.show()"
   ]
  },
  {
   "cell_type": "markdown",
   "metadata": {},
   "source": [
    "Select a country to get more details about the cities"
   ]
  },
  {
   "cell_type": "code",
   "execution_count": null,
   "metadata": {},
   "outputs": [],
   "source": [
    "selected_country = \"The Netherlands\"\n",
    "df_citys = df_grouped_location[df_grouped_location[\"Country\"]==selected_country]\n",
    "# sort by count\n",
    "df_citys = df_citys.sort_values(by=\"SessionCount\", ascending=False)\n",
    "plt.bar(df_citys[\"City\"], df_citys[\"SessionCount\"])\n",
    "plt.xlabel=\"City\"\n",
    "plt.ylabel=\"Number of Sessions\"\n",
    "plt.title(f\"Numer of Sessions by City in {selected_country}\")\n",
    "plt.show()"
   ]
  },
  {
   "cell_type": "markdown",
   "metadata": {},
   "source": [
    "### Which time accesses the users the system?"
   ]
  },
  {
   "cell_type": "code",
   "execution_count": null,
   "metadata": {},
   "outputs": [],
   "source": [
    "query = \"\"\"\n",
    "select strftime('%Y-%m-%d', Timestamp) as Date, Count(*) as SessionCount\n",
    "from tblSessions\n",
    "Group by Date\n",
    "Order by Date\n",
    "\"\"\"\n",
    "\n",
    "df_time_distribution = pd.read_sql_query(query, connection)\n",
    "df_time_distribution.head()"
   ]
  },
  {
   "cell_type": "markdown",
   "metadata": {},
   "source": [
    "Day of Week and Time"
   ]
  },
  {
   "cell_type": "code",
   "execution_count": null,
   "metadata": {},
   "outputs": [],
   "source": [
    "df_time_distribution = df_sessions\n",
    "df_time_distribution['Hour'] = df_time_distribution[\"Datetime\"].dt.hour\n",
    "df_time_distribution = df_sessions.groupby([\"Day\", \"Hour\"]).size().reset_index(name=\"SessionCount\")\n",
    "df_time_distribution.head()"
   ]
  },
  {
   "cell_type": "code",
   "execution_count": null,
   "metadata": {},
   "outputs": [],
   "source": [
    "heatmap = df_time_distribution.pivot_table(index=\"Day\", columns=\"Hour\", values=\"SessionCount\", aggfunc=\"sum\", fill_value=0)\n",
    "ordered_days= [\"Monday\", \"Tuesday\",\"Wednesday\",\"Thursday\", \"Friday\",\"Saturday\",\"Sunday\"]\n",
    "heatmap = heatmap.reindex(ordered_days)\n",
    "sns.heatmap(heatmap, cmap=\"coolwarm\", annot=True, fmt=\"g\")\n",
    "plt.title(\"Heatmap of Sessions by Hour and Weekday\")\n",
    "plt.xlabel = \"Hour of Day\"\n",
    "plt.ylabel = \"Day of Week\"\n",
    "plt.tight_layout()\n",
    "plt.show()"
   ]
  },
  {
   "cell_type": "markdown",
   "metadata": {},
   "source": [
    "### Browser, Languages und Operating Systems"
   ]
  },
  {
   "cell_type": "code",
   "execution_count": null,
   "metadata": {},
   "outputs": [],
   "source": [
    "df = df_sessions.groupby(\"OS\").size().reset_index(name=\"SessionCount\")\n",
    "df = df.sort_values(by=\"SessionCount\", ascending=False)\n",
    "showBar(df, \"Sessions by OS\", \"OS\", \"SessionCount\")"
   ]
  },
  {
   "cell_type": "markdown",
   "metadata": {},
   "source": [
    "How many Mobile Devices"
   ]
  },
  {
   "cell_type": "code",
   "execution_count": null,
   "metadata": {},
   "outputs": [],
   "source": [
    "counts = df_sessions['IsMobile'].value_counts()\n",
    "print(counts)\n",
    "counts.plot.pie(\n",
    "    labels=['Desktop', 'Mobile'],  #  1 = Mobile, 0 = Desktop\n",
    "    autopct='%1.1f%%',  # Format (Percentage)\n",
    "    startangle=90,  # Start angel\n",
    "    colors=['lightblue', 'lightgreen']  \n",
    ")\n",
    "plt.title(\"How many users using a mobile device\")\n",
    "plt.ylabel=\"\"\n",
    "plt.xlabel=\"\"\n",
    "plt.show()"
   ]
  },
  {
   "cell_type": "markdown",
   "metadata": {},
   "source": [
    "Analyze by Languages (important if location is not available)"
   ]
  },
  {
   "cell_type": "code",
   "execution_count": null,
   "metadata": {},
   "outputs": [],
   "source": [
    "df = df_sessions.groupby(\"Languages\").size().reset_index(name=\"SessionCount\")\n",
    "df = df.sort_values(by=\"SessionCount\", ascending=False)\n",
    "showBar(df,\n",
    "        x_column=\"Languages\",\n",
    "        y_column=\"SessionCount\",\n",
    "        title=\"Number of Sessions by Languages\")\n"
   ]
  },
  {
   "cell_type": "markdown",
   "metadata": {},
   "source": [
    "## Analyze the Images"
   ]
  },
  {
   "cell_type": "code",
   "execution_count": null,
   "metadata": {},
   "outputs": [],
   "source": [
    "query = \"select * from tblGenerations\"\n",
    "df_generations = pd.read_sql_query(query, connection)\n",
    "print(f\"{len(df_generations)} generations total\")"
   ]
  },
  {
   "cell_type": "code",
   "execution_count": null,
   "metadata": {},
   "outputs": [],
   "source": [
    "# latestes entries\n",
    "df_generations.tail()"
   ]
  },
  {
   "cell_type": "markdown",
   "metadata": {},
   "source": [
    "Which Style was used"
   ]
  },
  {
   "cell_type": "code",
   "execution_count": null,
   "metadata": {},
   "outputs": [],
   "source": [
    "df = df_generations.groupby(\"Style\").size().reset_index(name=\"SessionCount\")\n",
    "df = df.sort_values(by=\"SessionCount\", ascending=False)\n",
    "showBar(df,\n",
    "        x_column=\"Style\",\n",
    "        y_column=\"SessionCount\",\n",
    "        title=\"Usage of Styles\")\n"
   ]
  },
  {
   "cell_type": "markdown",
   "metadata": {},
   "source": [
    "Average generations per input image"
   ]
  },
  {
   "cell_type": "code",
   "execution_count": null,
   "metadata": {},
   "outputs": [],
   "source": [
    "df = df_generations.groupby(\"Input_SHA1\").size().reset_index(name=\"SessionCount\")\n",
    "average = df['SessionCount'].mean()\n",
    "print(f\"Average generation count per Input is {math.ceil(average)}\")\n",
    "df = df.sort_values(by=\"SessionCount\", ascending=False)\n",
    "showBar(df,\n",
    "        x_column=\"Input_SHA1\",\n",
    "        y_column=\"SessionCount\",\n",
    "        title=\"Generations per Image\",\n",
    "        show_x_values=False\n",
    "        )"
   ]
  },
  {
   "cell_type": "markdown",
   "metadata": {},
   "source": [
    "Top 5 Source images with amount of generations"
   ]
  },
  {
   "cell_type": "code",
   "execution_count": null,
   "metadata": {},
   "outputs": [],
   "source": [
    "df = df_generations.groupby(\"Input_SHA1\").size().reset_index(name=\"SessionCount\")\n",
    "df = df.sort_values(by=\"SessionCount\", ascending=False)\n",
    "df = df.head(5)\n",
    "df['SourcePath'] = df[\"Input_SHA1\"].apply(lambda sha: f\"{config.get_cache_folder()}{sha}.jpg\")\n",
    "showImageGrid(df,\"SourcePath\",name_column=\"SessionCount\")\n",
    "df.head(len(df))"
   ]
  },
  {
   "cell_type": "markdown",
   "metadata": {},
   "source": [
    "### Analyze a dedicated Image or generation Session"
   ]
  },
  {
   "cell_type": "markdown",
   "metadata": {},
   "source": [
    "Find prompts used for an image and relevant images.\n",
    "\n",
    "**TASK**: Put the filename without extension into SHA1"
   ]
  },
  {
   "cell_type": "code",
   "execution_count": null,
   "metadata": {},
   "outputs": [],
   "source": [
    "#just copy from filename (also output filename can be used)\n",
    "SHA1 = \"\"\n",
    "query = f\"select Session,Style,Userprompt,output as path from tblGenerations where input_sha1='{SHA1}' or output like '%{SHA1}%'\"\n",
    "# todo: use df_generations and filter then \n",
    "df = pd.read_sql_query(query, connection)\n",
    "\n",
    "showImageGrid(\n",
    "    df=df,\n",
    "    path_column=\"path\",\n",
    "    name_column=\"Style\",\n",
    "    descr_column=\"Userprompt\"\n",
    "    )\n",
    "df.tail()"
   ]
  },
  {
   "cell_type": "markdown",
   "metadata": {},
   "source": [
    "Find details to the User by using Session \n",
    "\n",
    "**TASK**: copy session from output above and add to \"Session\" variable"
   ]
  },
  {
   "cell_type": "code",
   "execution_count": null,
   "metadata": {},
   "outputs": [],
   "source": [
    "#Add here the Session from above\n",
    "Session = \"\"\n",
    "\n",
    "# don't change this\n",
    "query = f\"select OS, Browser, Language from tblSessions where session={Session}\"\n",
    "# todo: use df_generations and filter then \n",
    "df = pd.read_sql_query(query, connection)\n",
    "df.head()"
   ]
  },
  {
   "cell_type": "markdown",
   "metadata": {},
   "source": [
    "All images uploaded by same author (Session)\n",
    "\n",
    "**TASK**: copy session from output above and add to \"Session\" variable"
   ]
  },
  {
   "cell_type": "code",
   "execution_count": null,
   "metadata": {},
   "outputs": [],
   "source": [
    "#Add here the Session from above\n",
    "#Session = \"\"\n",
    "\n",
    "# don't change this\n",
    "query = f\"select distinct Input_SHA1 from tblGenerations where session='{Session}'\"\n",
    "\n",
    "df = pd.read_sql_query(query, connection)\n",
    "df['SourcePath'] = df[\"Input_SHA1\"].apply(lambda sha: f\"{config.get_cache_folder()}{sha}.jpg\")\n",
    "showImageGrid(df,\"SourcePath\")\n",
    "df.head(15)\n"
   ]
  },
  {
   "cell_type": "markdown",
   "metadata": {},
   "source": [
    "Show all generated image of this user\n",
    "\n",
    "**TASK**: copy session from output above and add to \"Session\" variable"
   ]
  },
  {
   "cell_type": "code",
   "execution_count": null,
   "metadata": {},
   "outputs": [],
   "source": [
    "Session = \"\"\n",
    "\n",
    "# don't change this\n",
    "# show all generated images of this user\n",
    "query = f\"select Timestamp, Input_SHA1 as Image, Style, Userprompt,Output as path from tblGenerations where session='{Session}' \"\n",
    "# todo: use df_generations and filter from df_details above like df_details['Session'] then \n",
    "df = pd.read_sql_query(query, connection)\n",
    "showImageGrid(\n",
    "    df=df,\n",
    "    path_column=\"path\",\n",
    "    name_column=\"Style\",\n",
    "    descr_column=\"Userprompt\"\n",
    "    )\n",
    "df.head(len(df))\n"
   ]
  }
 ],
 "metadata": {
  "kernelspec": {
   "display_name": ".venv",
   "language": "python",
   "name": "python3"
  },
  "language_info": {
   "codemirror_mode": {
    "name": "ipython",
    "version": 3
   },
   "file_extension": ".py",
   "mimetype": "text/x-python",
   "name": "python",
   "nbconvert_exporter": "python",
   "pygments_lexer": "ipython3",
   "version": "3.12.3"
  }
 },
 "nbformat": 4,
 "nbformat_minor": 2
}
