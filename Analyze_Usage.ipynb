{
 "cells": [
  {
   "cell_type": "markdown",
   "metadata": {},
   "source": [
    "# Analyze the usage of the Tool"
   ]
  },
  {
   "cell_type": "code",
   "execution_count": null,
   "metadata": {},
   "outputs": [],
   "source": [
    "# all other requirements will be installed with the application\n",
    "%pip install -q pandas matplotlib seaborn user-agents"
   ]
  },
  {
   "cell_type": "code",
   "execution_count": null,
   "metadata": {},
   "outputs": [],
   "source": [
    "import sqlite3, os\n",
    "from datetime import datetime\n",
    "import pandas as pd             #db querys with visualization\n",
    "import matplotlib.pyplot as plt # diagrams\n",
    "import matplotlib.image as mpimg # images\n",
    "import seaborn as sns           # Heatmaps etc.\n",
    "from user_agents import parse   # Split OS. Browser etc.\n",
    "import math                     #  calc sizes\n",
    "import src.config as config\n",
    "from  src.jupyter_helper import showBar, showImageGrid, showImage\n",
    "#sho untracted output always\n",
    "pd.set_option(\"display.max_colwidth\", None)"
   ]
  },
  {
   "cell_type": "markdown",
   "metadata": {},
   "source": [
    "## Open Database Connection"
   ]
  },
  {
   "cell_type": "code",
   "execution_count": null,
   "metadata": {},
   "outputs": [],
   "source": [
    "# check that the path is fitting to your config file\n",
    "# in theory we could also use the config.py to load this information (maybe next version)\n",
    "config.read_configuration()\n",
    "connection = sqlite3.connect(config.get_analytics_db_path())\n",
    "cursor = connection.cursor()"
   ]
  },
  {
   "cell_type": "markdown",
   "metadata": {},
   "source": [
    "### Read and prepare Session Data\n",
    "This section must be executed for all analyzation regading the Loaction, Operating Systems, and usage time\n",
    "\n",
    "Here we first read all Data into the Memory and analyze it then. It's more performant then adHoc Queries but AdHoc might be better if the Server is running in parallel."
   ]
  },
  {
   "cell_type": "code",
   "execution_count": null,
   "metadata": {},
   "outputs": [],
   "source": [
    "query = \"select * from tblSessions order by timestamp\"\n",
    "df_sessions = pd.read_sql_query(query, connection)\n",
    "df_sessions['Datetime'] = pd.to_datetime(df_sessions[\"Timestamp\"])\n",
    "df_sessions['Day'] = df_sessions[\"Datetime\"].dt.day_name()\n",
    "print(f\"{len(df_sessions)} sessions total\")"
   ]
  },
  {
   "cell_type": "markdown",
   "metadata": {},
   "source": [
    "### Read and Prepare Output and Generations"
   ]
  },
  {
   "cell_type": "code",
   "execution_count": null,
   "metadata": {},
   "outputs": [],
   "source": [
    "query = \"select * from tblGenerations\"\n",
    "df_generations = pd.read_sql_query(query, connection)\n",
    "df_generations['Date'] = df_generations[\"Timestamp\"].apply(lambda ts: datetime.strptime(ts,\"%Y-%m-%d %H:%M:%S\").strftime(\"%Y%m%d\"))\n",
    "cache_dir = config.get_cache_folder()\n",
    "df_generations['InputFile'] = df_generations.apply(lambda row: os.path.join(cache_dir,row[\"Date\"],row[\"Input_SHA1\"]+\".jpg\"),axis=1)\n",
    "#df_generations['InputFile'] = df_generations.apply(lambda row: os.path.join( datetime.strptime(row[\"Timestamp\"],\"%Y-%m-%d %H:%M:%S\").strftime(\"%Y%m%d\"),row[\"Input_SHA1\"],\".jpg\"), axis=1)\n",
    "print(f\"{len(df_generations)} generations total\")"
   ]
  },
  {
   "cell_type": "markdown",
   "metadata": {},
   "source": [
    "### Save the Session data as HTML and CSV"
   ]
  },
  {
   "cell_type": "code",
   "execution_count": null,
   "metadata": {},
   "outputs": [],
   "source": [
    "# Export to CSV if required (make sure that the folder exists)\n",
    "df_sessions.to_csv(f'./.local/sessions-{datetime.now().strftime(\"%Y%m%d\")}.csv', index=False) \n",
    "df_sessions.to_html(f'./.local/sessions-{datetime.now().strftime(\"%Y%m%d\")}.html', index=False) "
   ]
  },
  {
   "cell_type": "code",
   "execution_count": null,
   "metadata": {},
   "outputs": [],
   "source": [
    "# Export to CSV & HTML if required (make sure that the folder exists)\n",
    "df_generations.to_csv(f'./.local/generations-{datetime.now().strftime(\"%Y%m%d\")}.csv', index=False) \n",
    "df_generations.to_html(f'./.local/generations-{datetime.now().strftime(\"%Y%m%d\")}.html', index=False) "
   ]
  },
  {
   "cell_type": "markdown",
   "metadata": {},
   "source": [
    "## Analyze sources of the Queries"
   ]
  },
  {
   "cell_type": "markdown",
   "metadata": {},
   "source": [
    "**Filter by date (optional!)**\n",
    "if it is useful for your analysis"
   ]
  },
  {
   "cell_type": "code",
   "execution_count": null,
   "metadata": {},
   "outputs": [],
   "source": [
    "# # Year-Month-Day Hours:Minutes:Seconds\n",
    "# start_date = \"2025-01-01 00:00:00\"\n",
    "# end_date = \"2025-12-31 23:59:59\"\n",
    "# query = f\"select * from tblSessions where Timestamp between '{start_date}' and '{end_date}'\"\n",
    "# df_sessions = pd.read_sql_query(query, connection)\n",
    "# df_sessions['Datetime'] = pd.to_datetime(df_sessions[\"Timestamp\"])\n",
    "# df_sessions['Day'] = df_sessions[\"Datetime\"].dt.day_name()\n",
    "# df_sessions.tail()"
   ]
  },
  {
   "cell_type": "markdown",
   "metadata": {},
   "source": [
    "### Where does the Users comes from"
   ]
  },
  {
   "cell_type": "markdown",
   "metadata": {},
   "source": [
    "#### Prepare Dataset for this section\n",
    "\n",
    "Hint: it's required to execute the \"read an prepare Data\" first!\n",
    "\n"
   ]
  },
  {
   "cell_type": "code",
   "execution_count": null,
   "metadata": {},
   "outputs": [],
   "source": [
    "df_grouped_location = df_sessions.groupby([\"Continent\", \"Country\", \"City\"]).size().reset_index(name=\"SessionCount\")\n",
    "#remove correct NaN for better work with Panda groups\n",
    "df_grouped_location[\"Continent\"] = df_grouped_location[\"Continent\"].fillna(\"unkonwn\")\n",
    "df_grouped_location[\"Country\"] = df_grouped_location[\"Country\"].fillna(\"unkonwn\")\n",
    "df_grouped_location[\"City\"] = df_grouped_location[\"City\"].fillna(\"unkonwn\")\n",
    "df_grouped_location.head(10)"
   ]
  },
  {
   "cell_type": "markdown",
   "metadata": {},
   "source": [
    "Sample of AdHoc Query for the same content as below.\n",
    "Use it only if you need special data or rrlations or if your amount of data is very big"
   ]
  },
  {
   "cell_type": "code",
   "execution_count": null,
   "metadata": {},
   "outputs": [],
   "source": [
    "# query = \"select Continent, Country, City, count(1) as SessionCount from tblSessions group by Continent, Country, City\"\n",
    "# df_where = pd.read_sql_query(query, connection)\n",
    "# df_where.head(10)"
   ]
  },
  {
   "cell_type": "code",
   "execution_count": null,
   "metadata": {},
   "outputs": [],
   "source": [
    "#Group by Countries\n",
    "df = df_grouped_location.groupby(\"Country\")[\"SessionCount\"].sum().reset_index()\n",
    "df = df.sort_values(by=\"SessionCount\", ascending=False)\n",
    "showBar(df=df,title=\"Sessiony by Country\", x_column=\"Country\", y_column=\"SessionCount\")"
   ]
  },
  {
   "cell_type": "markdown",
   "metadata": {},
   "source": [
    "Select a country to get more details about the cities"
   ]
  },
  {
   "cell_type": "code",
   "execution_count": null,
   "metadata": {},
   "outputs": [],
   "source": [
    "selected_country = \"The Netherlands\"\n",
    "df = df_grouped_location[df_grouped_location[\"Country\"]==selected_country]\n",
    "df = df.sort_values(by=\"SessionCount\", ascending=False)\n",
    "showBar(df=df,title=f\"Sessions by City in {selected_country}\",x_column=\"City\")"
   ]
  },
  {
   "cell_type": "markdown",
   "metadata": {},
   "source": [
    "### Which time accesses the users the system?"
   ]
  },
  {
   "cell_type": "code",
   "execution_count": null,
   "metadata": {},
   "outputs": [],
   "source": [
    "query = \"\"\"\n",
    "select strftime('%Y-%m-%d', Timestamp) as Date, Count(*) as SessionCount\n",
    "from tblSessions\n",
    "Group by Date\n",
    "Order by Date\n",
    "\"\"\"\n",
    "\n",
    "df_time_distribution = pd.read_sql_query(query, connection)\n",
    "df_time_distribution.head()"
   ]
  },
  {
   "cell_type": "markdown",
   "metadata": {},
   "source": [
    "Day of Week and Time"
   ]
  },
  {
   "cell_type": "code",
   "execution_count": null,
   "metadata": {},
   "outputs": [],
   "source": [
    "df_time_distribution = df_sessions\n",
    "df_time_distribution['Hour'] = df_time_distribution[\"Datetime\"].dt.hour\n",
    "df_time_distribution = df_sessions.groupby([\"Day\", \"Hour\"]).size().reset_index(name=\"SessionCount\")\n",
    "df_time_distribution.head()"
   ]
  },
  {
   "cell_type": "code",
   "execution_count": null,
   "metadata": {},
   "outputs": [],
   "source": [
    "heatmap = df_time_distribution.pivot_table(index=\"Day\", columns=\"Hour\", values=\"SessionCount\", aggfunc=\"sum\", fill_value=0)\n",
    "ordered_days= [\"Monday\", \"Tuesday\",\"Wednesday\",\"Thursday\", \"Friday\",\"Saturday\",\"Sunday\"]\n",
    "heatmap = heatmap.reindex(ordered_days)\n",
    "sns.heatmap(heatmap, cmap=\"coolwarm\", annot=True, fmt=\"g\")\n",
    "plt.title(\"Heatmap of Sessions by Hour and Weekday\")\n",
    "plt.xlabel = \"Hour of Day\"\n",
    "plt.ylabel = \"Day of Week\"\n",
    "plt.tight_layout()\n",
    "plt.show()"
   ]
  },
  {
   "cell_type": "markdown",
   "metadata": {},
   "source": [
    "### Browser, Languages und Operating Systems"
   ]
  },
  {
   "cell_type": "code",
   "execution_count": null,
   "metadata": {},
   "outputs": [],
   "source": [
    "df = df_sessions.groupby(\"OS\").size().reset_index(name=\"SessionCount\")\n",
    "df = df.sort_values(by=\"SessionCount\", ascending=False)\n",
    "showBar(df, \"Sessions by OS\", \"OS\", \"SessionCount\")"
   ]
  },
  {
   "cell_type": "markdown",
   "metadata": {},
   "source": [
    "How many Mobile Devices"
   ]
  },
  {
   "cell_type": "code",
   "execution_count": null,
   "metadata": {},
   "outputs": [],
   "source": [
    "counts = df_sessions['IsMobile'].value_counts()\n",
    "print(counts)\n",
    "counts.plot.pie(\n",
    "    labels=['Desktop', 'Mobile'],  #  1 = Mobile, 0 = Desktop\n",
    "    autopct='%1.1f%%',  # Format (Percentage)\n",
    "    startangle=90,  # Start angel\n",
    "    colors=['lightblue', 'lightgreen']  \n",
    ")\n",
    "plt.title(\"Desktop vs. Mobile devices\")\n",
    "plt.ylabel=\"\"\n",
    "plt.xlabel=\"\"\n",
    "plt.show()"
   ]
  },
  {
   "cell_type": "markdown",
   "metadata": {},
   "source": [
    "Analyze by Languages (important if location is not available)"
   ]
  },
  {
   "cell_type": "code",
   "execution_count": null,
   "metadata": {},
   "outputs": [],
   "source": [
    "df = df_sessions.groupby(\"Language\").size().reset_index(name=\"SessionCount\")\n",
    "df = df.sort_values(by=\"SessionCount\", ascending=False)\n",
    "showBar(df,\n",
    "        x_column=\"Language\",\n",
    "        title=\"Number of Sessions by Languages\")\n"
   ]
  },
  {
   "cell_type": "markdown",
   "metadata": {},
   "source": [
    "## Analyze the Images"
   ]
  },
  {
   "cell_type": "markdown",
   "metadata": {},
   "source": [
    "### Analyze"
   ]
  },
  {
   "cell_type": "code",
   "execution_count": null,
   "metadata": {},
   "outputs": [],
   "source": [
    "# latestes entries\n",
    "df_generations.tail()"
   ]
  },
  {
   "cell_type": "markdown",
   "metadata": {},
   "source": [
    "Which Style was used"
   ]
  },
  {
   "cell_type": "code",
   "execution_count": null,
   "metadata": {},
   "outputs": [],
   "source": [
    "df = df_generations.groupby(\"Style\").size().reset_index(name=\"SessionCount\")\n",
    "df = df.sort_values(by=\"SessionCount\", ascending=False)\n",
    "showBar(df,\n",
    "        x_column=\"Style\",\n",
    "        title=\"Usage of Styles\")\n"
   ]
  },
  {
   "cell_type": "markdown",
   "metadata": {},
   "source": [
    "Average generations per input image"
   ]
  },
  {
   "cell_type": "code",
   "execution_count": null,
   "metadata": {},
   "outputs": [],
   "source": [
    "df = df_generations.groupby(\"Input_SHA1\").size().reset_index(name=\"SessionCount\")\n",
    "average = df['SessionCount'].mean()\n",
    "print(f\"Average generation count per Input is {math.ceil(average)}\")\n",
    "df = df.sort_values(by=\"SessionCount\", ascending=False)\n",
    "showBar(df,\n",
    "        x_column=\"Input_SHA1\",\n",
    "        title=\"Generations per Image\",\n",
    "        show_x_values=False\n",
    "        )"
   ]
  },
  {
   "cell_type": "markdown",
   "metadata": {},
   "source": [
    "Top 5 Source images with amount of generations"
   ]
  },
  {
   "cell_type": "code",
   "execution_count": null,
   "metadata": {},
   "outputs": [],
   "source": [
    "df = df_generations.groupby(\"InputFile\").size().reset_index(name=\"SessionCount\")\n",
    "df = df.sort_values(by=\"SessionCount\", ascending=False)\n",
    "df = df.head(5)\n",
    "#print(df[\"InputFile\"].to_string(index=False))\n",
    "showImageGrid(df,\"InputFile\",name_column=\"SessionCount\")\n",
    "df.head(len(df))"
   ]
  },
  {
   "cell_type": "markdown",
   "metadata": {},
   "source": [
    "## Analyze a dedicated Image or generation Session"
   ]
  },
  {
   "cell_type": "markdown",
   "metadata": {},
   "source": [
    "Styles and Prompts used by the top generator\n",
    "\n",
    "**TASK**: copy InputSHA1 from above"
   ]
  },
  {
   "cell_type": "code",
   "execution_count": null,
   "metadata": {},
   "outputs": [],
   "source": [
    "SHA1=\"add-here\"\n",
    "#--------------------\n",
    "df = df_generations[(df_generations[\"Input_SHA1\"] == SHA1)]\n",
    "#display(df)\n",
    "for index, row in df.iterrows():\n",
    "    print(f\"{row[\"Session\"]} - {row[\"Style\"]}\\t\\t{row[\"Userprompt\"]}\")\n"
   ]
  },
  {
   "cell_type": "markdown",
   "metadata": {},
   "source": [
    "Find prompts used for an image and relevant images.\n",
    "\n",
    "**TASK**: Execute the Statement above to generate the table"
   ]
  },
  {
   "cell_type": "code",
   "execution_count": null,
   "metadata": {},
   "outputs": [],
   "source": [
    "showImageGrid(\n",
    "    df=df,\n",
    "    path_column=\"Output\",\n",
    "    name_column=\"Style\",\n",
    "    descr_column=\"Userprompt\"\n",
    "    )\n",
    "df.tail()"
   ]
  },
  {
   "cell_type": "markdown",
   "metadata": {},
   "source": [
    "Find details to the User by using Session \n",
    "\n",
    "**TASK**: copy session from output above and add to \"Session\" variable"
   ]
  },
  {
   "cell_type": "code",
   "execution_count": null,
   "metadata": {},
   "outputs": [],
   "source": [
    "#Add here the Session from above\n",
    "Session = \"add-here\"\n",
    "\n",
    "# don't change this\n",
    "df = df_sessions[df_sessions[\"Session\"]==Session]\n",
    "df = df[[\"OS\", \"Browser\", \"Language\"]]\n",
    "df.head()"
   ]
  },
  {
   "cell_type": "markdown",
   "metadata": {},
   "source": [
    "All images uploaded by same author (Session)\n",
    "\n",
    "**TASK**: copy session from output above and add to \"Session\" variable"
   ]
  },
  {
   "cell_type": "code",
   "execution_count": null,
   "metadata": {},
   "outputs": [],
   "source": [
    "#Add here the Session from above\n",
    "#Session = \"add-here\"\n",
    "\n",
    "# don't change this\n",
    "where = (df_generations[\"Session\"]==Session)\n",
    "df = (df_generations[where]).groupby([\"Input_SHA1\",\"InputFile\"]).size().reset_index(name=\"SessionCount\").sort_values(by=\"SessionCount\", ascending=False)\n",
    "showImageGrid(df,\"InputFile\", name_column=\"Input_SHA1\")\n",
    "df.head(15)"
   ]
  },
  {
   "cell_type": "markdown",
   "metadata": {},
   "source": [
    "Show all generated image of this user\n",
    "\n",
    "**TASK**: copy session from output above and add to \"Session\" variable"
   ]
  },
  {
   "cell_type": "code",
   "execution_count": null,
   "metadata": {},
   "outputs": [],
   "source": [
    "#Session = \"add-here\"\n",
    "\n",
    "# show all generated images of this user\n",
    "# don't change this\n",
    "df = df_generations[df_generations[\"Session\"]== Session]\n",
    "df = df[[\"Timestamp\", \"Style\", \"Userprompt\", \"Output\"]].sort_values(by=\"Timestamp\")\n",
    "showImageGrid(\n",
    "    df=df,\n",
    "    path_column=\"Output\",\n",
    "    name_column=\"Style\",\n",
    "    descr_column=\"Userprompt\"\n",
    "    )\n",
    "df.head(len(df))\n"
   ]
  }
 ],
 "metadata": {
  "kernelspec": {
   "display_name": ".venv",
   "language": "python",
   "name": "python3"
  },
  "language_info": {
   "codemirror_mode": {
    "name": "ipython",
    "version": 3
   },
   "file_extension": ".py",
   "mimetype": "text/x-python",
   "name": "python",
   "nbconvert_exporter": "python",
   "pygments_lexer": "ipython3",
   "version": "3.12.3"
  }
 },
 "nbformat": 4,
 "nbformat_minor": 2
}
