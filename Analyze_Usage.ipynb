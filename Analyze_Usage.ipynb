{
 "cells": [
  {
   "cell_type": "markdown",
   "metadata": {},
   "source": [
    "# Analyze the usage of the Tool"
   ]
  },
  {
   "cell_type": "code",
   "execution_count": null,
   "metadata": {},
   "outputs": [],
   "source": [
    "%pip install -q pandas matplotlib seaborn"
   ]
  },
  {
   "cell_type": "code",
   "execution_count": 98,
   "metadata": {},
   "outputs": [],
   "source": [
    "import sqlite3\n",
    "import pandas as pd             #db querys with visualization\n",
    "import matplotlib.pyplot as plt # diagrams\n",
    "import seaborn as sns           # Heatmaps etc."
   ]
  },
  {
   "cell_type": "markdown",
   "metadata": {},
   "source": [
    "## Open Database Connection"
   ]
  },
  {
   "cell_type": "code",
   "execution_count": 43,
   "metadata": {},
   "outputs": [],
   "source": [
    "# check that the path is fitting to your config file\n",
    "# in theory we could also use the config.py to load this information (maybe next version)\n",
    "connection = sqlite3.connect(\"analytics.db\")\n",
    "cursor = connection.cursor()"
   ]
  },
  {
   "cell_type": "markdown",
   "metadata": {},
   "source": [
    "## Analyze sources of the Queries"
   ]
  },
  {
   "cell_type": "code",
   "execution_count": null,
   "metadata": {},
   "outputs": [],
   "source": [
    "# # Basics for reading the data (useful for export, save to csv or ...)\n",
    "# cursor.execute(\"select * from tblSessions\")\n",
    "# rows = cursor.fetchall()\n",
    "# rows"
   ]
  },
  {
   "cell_type": "markdown",
   "metadata": {},
   "source": [
    "First read all Data into the Memory and analyze it then. It's more performant then adHoc Queries but AdHoc might be better if the Server is running in parallel."
   ]
  },
  {
   "cell_type": "code",
   "execution_count": null,
   "metadata": {},
   "outputs": [],
   "source": [
    "query = \"select * from tblSessions\"\n",
    "df_sessions = pd.read_sql_query(query, connection)\n",
    "df_sessions.head()"
   ]
  },
  {
   "cell_type": "markdown",
   "metadata": {},
   "source": [
    "Filter by date if it is useful for your analysis (optional!)"
   ]
  },
  {
   "cell_type": "code",
   "execution_count": null,
   "metadata": {},
   "outputs": [],
   "source": [
    "# Year-Month-Day Hours:Minutes:Seconds\n",
    "start_date = \"2025-01-01 00:00:00\"\n",
    "end_date = \"2025-01-23 18:25:00\"\n",
    "query = f\"select * from tblSessions where Timestamp between '{start_date}' and '{end_date}'\"\n",
    "df_sessions = pd.read_sql_query(query, connection)\n",
    "df_sessions.head()"
   ]
  },
  {
   "cell_type": "markdown",
   "metadata": {},
   "source": [
    "Enhancement of the data with calculated values used later"
   ]
  },
  {
   "cell_type": "code",
   "execution_count": 92,
   "metadata": {},
   "outputs": [],
   "source": [
    "# Instaed of Timestamp which is a String we can use a real datetime object for filtering\n",
    "df_sessions['Datetime'] = pd.to_datetime(df_sessions[\"Timestamp\"])\n",
    "# For analysis it is interesting which day of week has the entry\n",
    "df_sessions['Day'] = df_sessions[\"Datetime\"].dt.day_name()"
   ]
  },
  {
   "cell_type": "markdown",
   "metadata": {},
   "source": [
    "### Where does the Users comes from"
   ]
  },
  {
   "cell_type": "markdown",
   "metadata": {},
   "source": [
    "Sample of AdHoc Query for the same content as blow.\n",
    "Use it only if you need special data or rrelations or if your amount of data is very big"
   ]
  },
  {
   "cell_type": "code",
   "execution_count": null,
   "metadata": {},
   "outputs": [],
   "source": [
    "query = \"select Continent, Country, City, count(1) as SessionCount from tblSessions group by Continent, Country, City\"\n",
    "df_where = pd.read_sql_query(query, connection)\n",
    "df_where.head()"
   ]
  },
  {
   "cell_type": "markdown",
   "metadata": {},
   "source": [
    "Analytics with in memory data"
   ]
  },
  {
   "cell_type": "code",
   "execution_count": null,
   "metadata": {},
   "outputs": [],
   "source": [
    "df_grouped_location = df_sessions.groupby([\"Continent\", \"Country\", \"City\"]).size().reset_index(name=\"SessionCount\")\n",
    "df_grouped_location.head()"
   ]
  },
  {
   "cell_type": "code",
   "execution_count": null,
   "metadata": {},
   "outputs": [],
   "source": [
    "#Group by Countries\n",
    "df_country = df_grouped_location.groupby(\"Country\")[\"SessionCount\"].sum().reset_index()\n",
    "df_country = df_country.sort_values(by=\"SessionCount\", ascending=False)\n",
    "plt.bar(df_country[\"Country\"], df_country[\"SessionCount\"], color=\"skyblue\")\n",
    "plt.xlabel=\"Country\"\n",
    "plt.ylabel=\"Number of Sessions\"\n",
    "plt.title(\"Number of Sessions by Country\")\n",
    "# optimization depending on your data\n",
    "#plt.figure(figsize=(10,6))\n",
    "#plt.xticks(rotation=90)\n",
    "plt.show()"
   ]
  },
  {
   "cell_type": "markdown",
   "metadata": {},
   "source": [
    "Select a country to get more details about the cities"
   ]
  },
  {
   "cell_type": "code",
   "execution_count": null,
   "metadata": {},
   "outputs": [],
   "source": [
    "selected_country = \"The Netherlands\"\n",
    "df_citys = df_grouped_location[df_grouped_location[\"Country\"]==selected_country]\n",
    "# sort by count\n",
    "df_citys = df_citys.sort_values(by=\"SessionCount\", ascending=False)\n",
    "plt.bar(df_citys[\"City\"], df_citys[\"SessionCount\"])\n",
    "plt.xlabel=\"City\"\n",
    "plt.ylabel=\"Number of Sessions\"\n",
    "plt.title(f\"Numer of Sessions by City in {selected_country}\")\n",
    "plt.show()"
   ]
  },
  {
   "cell_type": "markdown",
   "metadata": {},
   "source": [
    "### Zeitliche Verteilung der User"
   ]
  },
  {
   "cell_type": "code",
   "execution_count": null,
   "metadata": {},
   "outputs": [],
   "source": [
    "query = \"\"\"\n",
    "select strftime('%Y-%m-%d', Timestamp) as Date, Count(*) as SessionCount\n",
    "from tblSessions\n",
    "Group by Date\n",
    "Order by Date\n",
    "\"\"\"\n",
    "\n",
    "df_time_distribution = pd.read_sql_query(query, connection)\n",
    "df_time_distribution.head()"
   ]
  },
  {
   "cell_type": "markdown",
   "metadata": {},
   "source": [
    "Day of Week and Time"
   ]
  },
  {
   "cell_type": "code",
   "execution_count": null,
   "metadata": {},
   "outputs": [],
   "source": [
    "df_time_distribution = df_sessions\n",
    "df_time_distribution['Hour'] = df_time_distribution[\"Datetime\"].dt.hour\n",
    "df_time_distribution = df_sessions.groupby([\"Day\", \"Hour\"]).size().reset_index(name=\"SessionCount\")\n",
    "df_time_distribution.head()"
   ]
  },
  {
   "cell_type": "code",
   "execution_count": null,
   "metadata": {},
   "outputs": [],
   "source": [
    "heatmap = df_time_distribution.pivot_table(index=\"Day\", columns=\"Hour\", values=\"SessionCount\", aggfunc=\"sum\", fill_value=0)\n",
    "ordered_days= [\"Monday\", \"Tuesday\",\"Wednesday\",\"Thursday\", \"Friday\",\"Saturday\",\"Sunday\"]\n",
    "heatmap = heatmap.reindex(ordered_days)\n",
    "sns.heatmap(heatmap, cmap=\"coolwarm\", annot=True, fmt=\"g\")\n",
    "plt.title(\"Heatmap of Sessions by Hour and Weekday\")\n",
    "plt.xlabel = \"Hour of Day\"\n",
    "plt.ylabel = \"Day of Week\"\n",
    "plt.tight_layout()\n",
    "plt.show()"
   ]
  },
  {
   "cell_type": "markdown",
   "metadata": {},
   "source": [
    "### Browser, Languages und Operating Systems"
   ]
  },
  {
   "cell_type": "code",
   "execution_count": null,
   "metadata": {},
   "outputs": [],
   "source": [
    "query = \"\"\"\n",
    "select client, Count(*) as SessionCount\n",
    "from tblSessions\n",
    "Group by client\n",
    "Order by SessionCount DESC\n",
    "\"\"\"\n",
    "\n",
    "df_clients = pd.read_sql_query(query, connection)\n",
    "df_clients.head()"
   ]
  }
 ],
 "metadata": {
  "kernelspec": {
   "display_name": ".venv",
   "language": "python",
   "name": "python3"
  },
  "language_info": {
   "codemirror_mode": {
    "name": "ipython",
    "version": 3
   },
   "file_extension": ".py",
   "mimetype": "text/x-python",
   "name": "python",
   "nbconvert_exporter": "python",
   "pygments_lexer": "ipython3",
   "version": "3.12.3"
  }
 },
 "nbformat": 4,
 "nbformat_minor": 2
}
